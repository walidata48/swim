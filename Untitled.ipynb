{
 "cells": [
  {
   "cell_type": "code",
   "execution_count": 100,
   "id": "31c880e9",
   "metadata": {},
   "outputs": [
    {
     "name": "stdout",
     "output_type": "stream",
     "text": [
      "Successfully Connected to SQLite\n"
     ]
    }
   ],
   "source": [
    "import sqlite3\n",
    "\n",
    "sqliteConnection = sqlite3.connect('datas.db')\n",
    "cursor = sqliteConnection.cursor()\n",
    "print(\"Successfully Connected to SQLite\")\n",
    "cursor.execute(\"CREATE TABLE data(name text, password text)\")"
   ]
  },
  {
   "cell_type": "code",
   "execution_count": 63,
   "id": "3b4d47e3",
   "metadata": {},
   "outputs": [
    {
     "data": {
      "text/plain": [
       "<sqlite3.Cursor at 0x1dcab38b4c0>"
      ]
     },
     "execution_count": 63,
     "metadata": {},
     "output_type": "execute_result"
    }
   ],
   "source": [
    "cursor.execute(\"CREATE TABLE data(name text, password text)\")"
   ]
  },
  {
   "cell_type": "code",
   "execution_count": 95,
   "id": "e39f1418",
   "metadata": {},
   "outputs": [],
   "source": [
    "cursor.execute('insert into data values(\"gian\", \"125\")')\n",
    "sqliteConnection.commit()"
   ]
  },
  {
   "cell_type": "code",
   "execution_count": 39,
   "id": "c83a0111",
   "metadata": {},
   "outputs": [],
   "source": [
    "cursor.close()"
   ]
  },
  {
   "cell_type": "code",
   "execution_count": 101,
   "id": "cb144ac0",
   "metadata": {},
   "outputs": [
    {
     "data": {
      "text/plain": [
       "<sqlite3.Cursor at 0x1dcab38bd40>"
      ]
     },
     "execution_count": 101,
     "metadata": {},
     "output_type": "execute_result"
    }
   ],
   "source": [
    "cursor.execute('SELECT * FROM data ')"
   ]
  },
  {
   "cell_type": "code",
   "execution_count": 102,
   "id": "9c65d51c",
   "metadata": {},
   "outputs": [],
   "source": [
    "row = cursor.fetchall()"
   ]
  },
  {
   "cell_type": "code",
   "execution_count": 103,
   "id": "8b730ef6",
   "metadata": {},
   "outputs": [
    {
     "data": {
      "text/plain": [
       "[('waliy1', '321'), ('waliy2', '321'), ('waliy3', '321'), ('waliy3', '321')]"
      ]
     },
     "execution_count": 103,
     "metadata": {},
     "output_type": "execute_result"
    }
   ],
   "source": [
    "row"
   ]
  },
  {
   "cell_type": "code",
   "execution_count": 112,
   "id": "41efe889",
   "metadata": {},
   "outputs": [],
   "source": [
    "sqliteConnection.close()"
   ]
  },
  {
   "cell_type": "code",
   "execution_count": 22,
   "id": "5afe5cf8",
   "metadata": {},
   "outputs": [
    {
     "data": {
      "text/plain": [
       "list"
      ]
     },
     "execution_count": 22,
     "metadata": {},
     "output_type": "execute_result"
    }
   ],
   "source": [
    "type(row)"
   ]
  },
  {
   "cell_type": "code",
   "execution_count": 23,
   "id": "62eec93e",
   "metadata": {},
   "outputs": [
    {
     "data": {
      "text/plain": [
       "dict_keys(['waliy', 'gian'])"
      ]
     },
     "execution_count": 23,
     "metadata": {},
     "output_type": "execute_result"
    }
   ],
   "source": [
    "dict(row).keys()"
   ]
  },
  {
   "cell_type": "code",
   "execution_count": 108,
   "id": "80644c0a",
   "metadata": {},
   "outputs": [
    {
     "name": "stdout",
     "output_type": "stream",
     "text": [
      "Successfully Connected to SQLite\n"
     ]
    }
   ],
   "source": [
    "import sqlite3\n",
    "\n",
    "sqliteConnection = sqlite3.connect('datas.db')\n",
    "cursor = sqliteConnection.cursor()\n",
    "print(\"Successfully Connected to SQLite\")"
   ]
  },
  {
   "cell_type": "code",
   "execution_count": 115,
   "id": "bc1fe0b7",
   "metadata": {},
   "outputs": [
    {
     "ename": "ProgrammingError",
     "evalue": "Cannot operate on a closed database.",
     "output_type": "error",
     "traceback": [
      "\u001b[1;31m---------------------------------------------------------------------------\u001b[0m",
      "\u001b[1;31mProgrammingError\u001b[0m                          Traceback (most recent call last)",
      "Cell \u001b[1;32mIn[115], line 1\u001b[0m\n\u001b[1;32m----> 1\u001b[0m \u001b[43mcursor\u001b[49m\u001b[38;5;241;43m.\u001b[39;49m\u001b[43mexecute\u001b[49m\u001b[43m(\u001b[49m\u001b[38;5;124;43m\"\u001b[39;49m\u001b[38;5;124;43mCREATE TABLE regist(name text, lomba text)\u001b[39;49m\u001b[38;5;124;43m\"\u001b[39;49m\u001b[43m)\u001b[49m\n",
      "\u001b[1;31mProgrammingError\u001b[0m: Cannot operate on a closed database."
     ]
    }
   ],
   "source": [
    "cursor.execute(\"CREATE TABLE regist(name text, lomba text)\")\n"
   ]
  },
  {
   "cell_type": "code",
   "execution_count": 197,
   "id": "2788967a",
   "metadata": {},
   "outputs": [],
   "source": [
    "sqliteConnection = sqlite3.connect('datas.db')\n",
    "cursor = sqliteConnection.cursor()\n",
    "cursor.execute('insert into data values(\"ian\", \"125\")')\n",
    "sqliteConnection.commit()\n",
    "sqliteConnection.close()"
   ]
  },
  {
   "cell_type": "code",
   "execution_count": 199,
   "id": "6f3940c4",
   "metadata": {},
   "outputs": [],
   "source": [
    "sqliteConnection = sqlite3.connect('datas.db')\n",
    "cursor = sqliteConnection.cursor()\n",
    "name = 'gianq'\n",
    "lomba = '324'\n",
    "cursor.execute(\"insert into data (name, password) values (?,?)\", (name, lomba))\n",
    "sqliteConnection.commit()\n",
    "sqliteConnection.close()"
   ]
  },
  {
   "cell_type": "code",
   "execution_count": 126,
   "id": "91eab65f",
   "metadata": {},
   "outputs": [],
   "source": [
    "sqliteConnection = sqlite3.connect('datas.db')\n",
    "cursor = sqliteConnection.cursor()\n",
    "name = 'gian'\n",
    "lomba = 'punggung'\n",
    "cursor.execute(\"insert into regist (name, lomba) values (?,?)\", (name, lomba))\n",
    "sqliteConnection.commit()\n",
    "sqliteConnection.close()"
   ]
  },
  {
   "cell_type": "code",
   "execution_count": 144,
   "id": "3f91ee18",
   "metadata": {},
   "outputs": [
    {
     "name": "stdout",
     "output_type": "stream",
     "text": [
      "Successfully Connected to SQLite\n"
     ]
    },
    {
     "data": {
      "text/plain": [
       "[('waliy1', '321'),\n",
       " ('waliy2', '321'),\n",
       " ('waliy3', '321'),\n",
       " ('waliy3', '321'),\n",
       " ('waliy', 'kupu-kupu'),\n",
       " ('gian', '125')]"
      ]
     },
     "execution_count": 144,
     "metadata": {},
     "output_type": "execute_result"
    }
   ],
   "source": [
    "sqliteConnection = sqlite3.connect('datas.db')\n",
    "cursor = sqliteConnection.cursor()\n",
    "print(\"Successfully Connected to SQLite\")\n",
    "cursor.execute('SELECT * FROM data ')\n",
    "row = cursor.fetchall()\n",
    "row\n"
   ]
  },
  {
   "cell_type": "code",
   "execution_count": 33,
   "id": "7eb8440c",
   "metadata": {},
   "outputs": [
    {
     "name": "stdout",
     "output_type": "stream",
     "text": [
      "Successfully Connected to SQLite\n"
     ]
    },
    {
     "data": {
      "text/plain": [
       "[('waliy', 'kupu-kupu'),\n",
       " ('name', 'lomba'),\n",
       " ('name', 'lomba'),\n",
       " ('name', 'lomba'),\n",
       " ('gian', 'punggung'),\n",
       " ('waliy1', 'Kupu-kupu'),\n",
       " ('waliy1', 'Kupu-kupu'),\n",
       " ('waliy1', 'Punggung'),\n",
       " ('waliy1', 'Kupu-kupu'),\n",
       " ('waliy2', 'Bebas'),\n",
       " ('waliy2', 'Kupu-kupu'),\n",
       " ('waliy2', 'Punggung'),\n",
       " ('mia', 'Punggung'),\n",
       " ('boy', 'Kupu-kupu'),\n",
       " ('boy', 'Punggung'),\n",
       " ('sasuke', 'Kupu-kupu'),\n",
       " ('mike', 'Punggung')]"
      ]
     },
     "execution_count": 33,
     "metadata": {},
     "output_type": "execute_result"
    }
   ],
   "source": [
    "sqliteConnection = sqlite3.connect('datas.db')\n",
    "cursor = sqliteConnection.cursor()\n",
    "print(\"Successfully Connected to SQLite\")\n",
    "cursor.execute('SELECT * FROM regist ')\n",
    "row = cursor.fetchall()\n",
    "row\n"
   ]
  },
  {
   "cell_type": "code",
   "execution_count": 114,
   "id": "d40b4977",
   "metadata": {},
   "outputs": [],
   "source": [
    "sqliteConnection.close()"
   ]
  },
  {
   "cell_type": "code",
   "execution_count": 132,
   "id": "a379ccd8",
   "metadata": {},
   "outputs": [
    {
     "name": "stdout",
     "output_type": "stream",
     "text": [
      "Successfully Connected to SQLite\n"
     ]
    }
   ],
   "source": [
    "sqliteConnection = sqlite3.connect('datas.db')\n",
    "cursor = sqliteConnection.cursor()\n",
    "print(\"Successfully Connected to SQLite\")\n",
    "cursor.execute(\"CREATE TABLE newuser(name text, tgl text, username text, password text)\")\n",
    "sqliteConnection.commit()\n",
    "sqliteConnection.close()"
   ]
  },
  {
   "cell_type": "code",
   "execution_count": 133,
   "id": "c94ffb49",
   "metadata": {},
   "outputs": [],
   "source": [
    "sqliteConnection = sqlite3.connect('datas.db')\n",
    "cursor = sqliteConnection.cursor()\n",
    "cursor.execute('insert into newuser values(\"waliy3\", \"3/12/1990\", \"wlyi\", \"linkin\")')\n",
    "sqliteConnection.commit()\n",
    "sqliteConnection.close()"
   ]
  },
  {
   "cell_type": "code",
   "execution_count": 50,
   "id": "797b9675",
   "metadata": {},
   "outputs": [
    {
     "name": "stdout",
     "output_type": "stream",
     "text": [
      "Successfully Connected to SQLite\n"
     ]
    },
    {
     "data": {
      "text/plain": [
       "[('waliy3', '3/12/1990', 'wlyi', 'linkin'),\n",
       " (None, '12/09/2010', 'alva1', 'yusi2'),\n",
       " ('melodi', '12/12/2010', 'melo', '1234'),\n",
       " ('wlyi', '12/12/1900', 'wlyi', '1234'),\n",
       " ('Gianz', '01/09/2010', 'Gianz', '12345'),\n",
       " ('bagas', '12/09/2010', 'bagasx', '1234'),\n",
       " ('iqbal', '12/09/2010', 'iqbal', '1234'),\n",
       " ('akmal', '12/12/1900', 'akmal', '1234'),\n",
       " ('mia', '12/09/2010', 'mia', '1234'),\n",
       " ('Volic', '01/01/1997', 'volic', 'volic1'),\n",
       " ('budi', '12/12/1990', 'budi1', '12345'),\n",
       " ('Vita', '01/01/1990', 'vit', '12345'),\n",
       " ('super', '12/12/1990', 'super', '123'),\n",
       " ('elon', '01/09/2019', 'elon', 'musk'),\n",
       " ('Boy Zul', '01/09/1997', 'boy', '123'),\n",
       " ('gabriel', '1', 'gab', '345'),\n",
       " ('mada', '2', 'mada', '12345'),\n",
       " ('nada', '12', 'nada', '12345'),\n",
       " ('kobe', '12', 'kobe', '12345'),\n",
       " ('cury', '1', 'cury', '123'),\n",
       " ('alfa', '01/01/2018', 'alfa', '1234'),\n",
       " ('messi', '12/12/2000', 'messi', '12345'),\n",
       " ('zach', '12', 'zach', '12345'),\n",
       " ('jet', '01/01/2010', 'jet', '12345'),\n",
       " ('steph', '1/1/190', 'steph', '123'),\n",
       " ('ja', '1', 'ja', '12345'),\n",
       " ('aoc', '1', 'aoc', '123'),\n",
       " (None, None, None, None),\n",
       " (None, None, None, None),\n",
       " ('regita', '1', 'reg', '123'),\n",
       " ('enji', '1', 'enji', '1234'),\n",
       " ('hani', '1', 'hani', '123'),\n",
       " ('albert', '1', 'albert', '123'),\n",
       " ('oppie', '1', 'oppie', '123'),\n",
       " ('lufi', '1', 'lufi', '123'),\n",
       " ('jek', '1', 'jek', '123'),\n",
       " ('che', '1', 'che', '123'),\n",
       " ('mike', '1', 'mike', '123'),\n",
       " ('sasuke', '1', 'sasuke', '123'),\n",
       " ('sarada', '1', 'sarada', '123'),\n",
       " ('zul', '1', 'zul', '123'),\n",
       " ('emily', '1', 'emily', '123'),\n",
       " ('ryan', '1', 'ryan', '123'),\n",
       " ('gone', '1', 'gone', '123')]"
      ]
     },
     "execution_count": 50,
     "metadata": {},
     "output_type": "execute_result"
    }
   ],
   "source": [
    "sqliteConnection = sqlite3.connect('datas.db')\n",
    "cursor = sqliteConnection.cursor()\n",
    "print(\"Successfully Connected to SQLite\")\n",
    "cursor.execute('SELECT * FROM newuser ')\n",
    "row = cursor.fetchall()\n",
    "sqliteConnection.commit()\n",
    "sqliteConnection.close()\n",
    "row\n",
    "\n"
   ]
  },
  {
   "cell_type": "code",
   "execution_count": 49,
   "id": "d0b23f13",
   "metadata": {},
   "outputs": [
    {
     "name": "stdout",
     "output_type": "stream",
     "text": [
      "Successfully Connected to SQLite\n"
     ]
    },
    {
     "data": {
      "text/plain": [
       "[('waliy1', '321'),\n",
       " ('waliy2', '321'),\n",
       " ('waliy3', '321'),\n",
       " ('waliy3', '321'),\n",
       " ('waliy', 'kupu-kupu'),\n",
       " ('gian', '125'),\n",
       " ('ian', '125'),\n",
       " ('gianq', '324'),\n",
       " ('mia', '1234'),\n",
       " ('volic', 'volic1'),\n",
       " ('budi1', '12345'),\n",
       " ('vit', '12345'),\n",
       " ('super', '123'),\n",
       " ('elon', 'musk'),\n",
       " ('boy', '123'),\n",
       " ('gab', '345'),\n",
       " ('mada', '12345'),\n",
       " ('nada', '12345'),\n",
       " ('kobe', '12345'),\n",
       " ('cury', '123'),\n",
       " ('alfa', '1234'),\n",
       " ('messi', '12345'),\n",
       " ('zach', '12345'),\n",
       " ('jet', '12345'),\n",
       " ('steph', '123'),\n",
       " ('ja', '12345'),\n",
       " ('aoc', '123'),\n",
       " (None, None),\n",
       " (None, None),\n",
       " ('reg', '123'),\n",
       " ('enji', '1234'),\n",
       " ('hani', '123'),\n",
       " ('albert', '123'),\n",
       " ('oppie', '123'),\n",
       " ('lufi', '123'),\n",
       " ('jek', '123'),\n",
       " ('che', '123'),\n",
       " ('mike', '123'),\n",
       " ('sasuke', '123'),\n",
       " ('sarada', '123'),\n",
       " ('zul', '123'),\n",
       " ('emily', '123'),\n",
       " ('ryan', '123'),\n",
       " ('gone', '123')]"
      ]
     },
     "execution_count": 49,
     "metadata": {},
     "output_type": "execute_result"
    }
   ],
   "source": [
    "sqliteConnection = sqlite3.connect('datas.db')\n",
    "cursor = sqliteConnection.cursor()\n",
    "print(\"Successfully Connected to SQLite\")\n",
    "cursor.execute('SELECT * FROM data ')\n",
    "row = cursor.fetchall()\n",
    "sqliteConnection.commit()\n",
    "sqliteConnection.close()\n",
    "row\n"
   ]
  },
  {
   "cell_type": "code",
   "execution_count": 43,
   "id": "f3d115aa",
   "metadata": {},
   "outputs": [],
   "source": [
    "import sqlite3"
   ]
  },
  {
   "cell_type": "code",
   "execution_count": null,
   "id": "3837fcac",
   "metadata": {},
   "outputs": [],
   "source": []
  }
 ],
 "metadata": {
  "kernelspec": {
   "display_name": "Python 3 (ipykernel)",
   "language": "python",
   "name": "python3"
  },
  "language_info": {
   "codemirror_mode": {
    "name": "ipython",
    "version": 3
   },
   "file_extension": ".py",
   "mimetype": "text/x-python",
   "name": "python",
   "nbconvert_exporter": "python",
   "pygments_lexer": "ipython3",
   "version": "3.10.9"
  }
 },
 "nbformat": 4,
 "nbformat_minor": 5
}
